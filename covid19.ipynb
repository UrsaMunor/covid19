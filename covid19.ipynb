{
 "cells": [
  {
   "cell_type": "code",
   "execution_count": 30,
   "metadata": {},
   "outputs": [],
   "source": [
    "import pandas as pd\n",
    "import matplotlib.pyplot as plt\n",
    "from matplotlib.pylab import rcParams\n",
    "import numpy as np\n",
    "\n",
    "from sklearn import preprocessing\n",
    "from sklearn.datasets import make_regression\n",
    "from sklearn.model_selection import train_test_split\n",
    "from sklearn.preprocessing import MinMaxScaler\n",
    "from sklearn.neural_network import MLPRegressor\n",
    "from sklearn.metrics import r2_score\n",
    "from sklearn import metrics"
   ]
  },
  {
   "cell_type": "code",
   "execution_count": 31,
   "metadata": {},
   "outputs": [],
   "source": [
    "# read excel file. I change the format of the original file into an excel file (cleaning up data)\n",
    "auto_data = pd.read_excel('C:/Users/Bao Han/Desktop/covid19/adjusted.xlsx', header=None)"
   ]
  },
  {
   "cell_type": "code",
   "execution_count": 32,
   "metadata": {
    "scrolled": true
   },
   "outputs": [
    {
     "data": {
      "text/plain": [
       "<bound method NDFrame.head of          0        1        2        3      4\n",
       "0    11771   204.48   204.48   135767  43880\n",
       "1      396    54.79    54.79  1723336  62102\n",
       "2    13937   324.92   324.92   295233  46233\n",
       "3     4759   120.54   120.54   137730  44845\n",
       "4    78839  2813.70  2813.70   423968  66661\n",
       "5    21797   356.56   356.56   269602  61348\n",
       "6    37419   250.05   250.05    14356  79087\n",
       "7     7869    63.62    63.62     6446  54264\n",
       "8     7123   126.78   126.78      177  51989\n",
       "9    45588   959.43   959.43   170312  48199\n",
       "10   37642   543.79   543.79   153910  57450\n",
       "11     589    83.94    83.94    28313  45642\n",
       "12    2419    73.16    73.16   216443  58935\n",
       "13   94191   786.70   786.70   149994  48657\n",
       "14   27778   333.89   333.89    94327  52636\n",
       "15   14651   174.48   174.48   145744  53453\n",
       "16    7886   157.20   157.20   213099  44017\n",
       "17    7688   190.64   190.64   104656  48008\n",
       "18   34498   242.08   242.08   135658  50950\n",
       "19    1713    58.91    58.91    91634  65683\n",
       "20   38804   376.94   376.94    32131  74967\n",
       "21   86010   522.64   522.64    27335  50320\n",
       "22   51142   477.01   477.01   250485  59683\n",
       "23   16372   341.01   341.01   225163  39368\n",
       "24   11432   105.00   105.00   125438  49589\n",
       "25   10789   293.15   293.15   180540  49074\n",
       "26     470    47.58    47.58   380832  54871\n",
       "27   10348   115.91   115.91   200330  50883\n",
       "28    6872   155.53   155.53   286380  63880\n",
       "29    3596    78.44    78.44    24214  70979\n",
       "30  146334   566.56   566.56    22590  43984\n",
       "31    5938    98.00    98.00   314917  71440\n",
       "32  347936  1467.85  1467.85   141297  47803\n",
       "33   18512   512.58   512.58   139390  57501\n",
       "34    1900    54.28    54.28   183107  50546\n",
       "35   27923   619.21   619.21   116096  47951\n",
       "36    5310   202.34   202.34   181038  52937\n",
       "37    3623   224.17   224.17   254800  58775\n",
       "38   62234   733.61   733.61   119279  56542\n",
       "39   12674    55.43    55.43     3999  45314\n",
       "40    8816   215.21   215.21    82931  53925\n",
       "41    3987    47.11    47.11   199730  48761\n",
       "42   17495   333.31   333.31   109152  52504\n",
       "43   47784  1812.11  1812.11   695660  56663\n",
       "44    7305   166.82   166.82   219882  48395\n",
       "45     940    30.70    30.70    24905  56691\n",
       "46   31140   489.37   489.37   110787  60116\n",
       "47   18433   537.64   537.64   184661  64898\n",
       "48    1490    72.26    72.26    62755  42336\n",
       "49   12543   307.88   307.88   169634  53583\n",
       "50     754    39.47    39.47   253334  63316>"
      ]
     },
     "execution_count": 32,
     "metadata": {},
     "output_type": "execute_result"
    }
   ],
   "source": [
    "auto_data.head"
   ]
  },
  {
   "cell_type": "code",
   "execution_count": 33,
   "metadata": {},
   "outputs": [],
   "source": [
    "auto_data.columns =['infected', 'GDP','#residence','area','income']\n",
    "mpg= auto_data.infected\n",
    "X= auto_data.drop('infected', axis=1)\n",
    "y= auto_data[['infected']]\n",
    "X_train, X_test, y_train, y_test = train_test_split(X, y, test_size=0.2)"
   ]
  },
  {
   "cell_type": "code",
   "execution_count": 34,
   "metadata": {},
   "outputs": [],
   "source": [
    "scale= MinMaxScaler()\n",
    "scale.fit(X_train)\n",
    "X_train= scale.transform(X_train)\n",
    "X_test= scale.transform(X_test)"
   ]
  },
  {
   "cell_type": "code",
   "execution_count": null,
   "metadata": {},
   "outputs": [],
   "source": []
  },
  {
   "cell_type": "code",
   "execution_count": 47,
   "metadata": {},
   "outputs": [
    {
     "name": "stderr",
     "output_type": "stream",
     "text": [
      "c:\\users\\bao han\\appdata\\local\\programs\\python\\python36\\lib\\site-packages\\sklearn\\utils\\validation.py:73: DataConversionWarning: A column-vector y was passed when a 1d array was expected. Please change the shape of y to (n_samples, ), for example using ravel().\n",
      "  return f(**kwargs)\n",
      "c:\\users\\bao han\\appdata\\local\\programs\\python\\python36\\lib\\site-packages\\sklearn\\neural_network\\_multilayer_perceptron.py:585: ConvergenceWarning: Stochastic Optimizer: Maximum iterations (10000) reached and the optimization hasn't converged yet.\n",
      "  % self.max_iter, ConvergenceWarning)\n"
     ]
    },
    {
     "data": {
      "text/plain": [
       "MLPRegressor(hidden_layer_sizes=(10, 10), max_iter=10000)"
      ]
     },
     "execution_count": 47,
     "metadata": {},
     "output_type": "execute_result"
    }
   ],
   "source": [
    "neural_network= MLPRegressor(hidden_layer_sizes=(10,10,), activation='relu', max_iter=10000)\n",
    "neural_network.fit(X_train,y_train)"
   ]
  },
  {
   "cell_type": "code",
   "execution_count": 48,
   "metadata": {},
   "outputs": [
    {
     "name": "stdout",
     "output_type": "stream",
     "text": [
      "28359.99665887045 2667228341.4439497 0.24241094411182784\n"
     ]
    }
   ],
   "source": [
    "mean_absolute_error= metrics.mean_absolute_error(y_train, neural_network.predict(X_train))\n",
    "mean_square_error= metrics.mean_squared_error(y_train, neural_network.predict(X_train))\n",
    "R_square= metrics.r2_score(y_train, neural_network.predict(X_train))\n",
    "print(mean_absolute_error,mean_square_error,R_square)"
   ]
  },
  {
   "cell_type": "code",
   "execution_count": 49,
   "metadata": {},
   "outputs": [
    {
     "name": "stdout",
     "output_type": "stream",
     "text": [
      "23665.759171943206 725689428.9427727 -3.8899130114649125\n"
     ]
    }
   ],
   "source": [
    "mean_absolute_error_test= metrics.mean_absolute_error(y_test, neural_network.predict(X_test))\n",
    "mean_square_error_test= metrics.mean_squared_error(y_test, neural_network.predict(X_test))\n",
    "R_square_test= metrics.r2_score(y_test, neural_network.predict(X_test))\n",
    "print(mean_absolute_error_test,mean_square_error_test,R_square_test)"
   ]
  },
  {
   "cell_type": "code",
   "execution_count": null,
   "metadata": {},
   "outputs": [],
   "source": []
  }
 ],
 "metadata": {
  "kernelspec": {
   "display_name": "Python 3",
   "language": "python",
   "name": "python3"
  },
  "language_info": {
   "codemirror_mode": {
    "name": "ipython",
    "version": 3
   },
   "file_extension": ".py",
   "mimetype": "text/x-python",
   "name": "python",
   "nbconvert_exporter": "python",
   "pygments_lexer": "ipython3",
   "version": "3.6.5"
  }
 },
 "nbformat": 4,
 "nbformat_minor": 4
}
